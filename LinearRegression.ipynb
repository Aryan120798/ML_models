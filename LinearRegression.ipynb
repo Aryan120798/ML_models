{
  "cells": [
    {
      "cell_type": "code",
      "execution_count": 1,
      "metadata": {
        "id": "3bMRNIatIs0Y"
      },
      "outputs": [],
      "source": [
        "import pandas as pd\n",
        "import numpy as np\n",
        "import math\n",
        "import matplotlib.pyplot as plt\n",
        "from tqdm import tqdm\n",
        "from sklearn.model_selection import train_test_split"
      ]
    },
    {
      "cell_type": "code",
      "execution_count": 3,
      "metadata": {
        "colab": {
          "base_uri": "https://localhost:8080/"
        },
        "id": "kWOmqLzpLKJ1",
        "outputId": "1f134486-3eef-4219-dd25-02fa6784e677"
      },
      "outputs": [],
      "source": [
        "# from google.colab import drive\n",
        "# drive.mount('/content/drive')"
      ]
    },
    {
      "cell_type": "code",
      "execution_count": 2,
      "metadata": {
        "id": "qMgIQO7bOK8X"
      },
      "outputs": [],
      "source": [
        "df = pd.read_csv('Housing.csv')"
      ]
    },
    {
      "cell_type": "code",
      "execution_count": 40,
      "metadata": {
        "colab": {
          "base_uri": "https://localhost:8080/",
          "height": 206
        },
        "id": "SYc9Tf-PSyDU",
        "outputId": "644f395f-f68c-4ef9-b938-701a8c034cc5"
      },
      "outputs": [
        {
          "data": {
            "text/html": [
              "<div>\n",
              "<style scoped>\n",
              "    .dataframe tbody tr th:only-of-type {\n",
              "        vertical-align: middle;\n",
              "    }\n",
              "\n",
              "    .dataframe tbody tr th {\n",
              "        vertical-align: top;\n",
              "    }\n",
              "\n",
              "    .dataframe thead th {\n",
              "        text-align: right;\n",
              "    }\n",
              "</style>\n",
              "<table border=\"1\" class=\"dataframe\">\n",
              "  <thead>\n",
              "    <tr style=\"text-align: right;\">\n",
              "      <th></th>\n",
              "      <th>0.00632</th>\n",
              "      <th>18</th>\n",
              "      <th>2.31</th>\n",
              "      <th>0</th>\n",
              "      <th>0.538</th>\n",
              "      <th>6.575</th>\n",
              "      <th>65.2</th>\n",
              "      <th>4.09</th>\n",
              "      <th>1</th>\n",
              "      <th>296</th>\n",
              "      <th>15.3</th>\n",
              "      <th>396.9</th>\n",
              "      <th>4.98</th>\n",
              "      <th>24</th>\n",
              "    </tr>\n",
              "  </thead>\n",
              "  <tbody>\n",
              "    <tr>\n",
              "      <th>0</th>\n",
              "      <td>0.02731</td>\n",
              "      <td>0.0</td>\n",
              "      <td>7.07</td>\n",
              "      <td>0</td>\n",
              "      <td>0.469</td>\n",
              "      <td>6.421</td>\n",
              "      <td>78.9</td>\n",
              "      <td>4.9671</td>\n",
              "      <td>2</td>\n",
              "      <td>242</td>\n",
              "      <td>17.8</td>\n",
              "      <td>396.90</td>\n",
              "      <td>9.14</td>\n",
              "      <td>21.6</td>\n",
              "    </tr>\n",
              "    <tr>\n",
              "      <th>1</th>\n",
              "      <td>0.02729</td>\n",
              "      <td>0.0</td>\n",
              "      <td>7.07</td>\n",
              "      <td>0</td>\n",
              "      <td>0.469</td>\n",
              "      <td>7.185</td>\n",
              "      <td>61.1</td>\n",
              "      <td>4.9671</td>\n",
              "      <td>2</td>\n",
              "      <td>242</td>\n",
              "      <td>17.8</td>\n",
              "      <td>392.83</td>\n",
              "      <td>4.03</td>\n",
              "      <td>34.7</td>\n",
              "    </tr>\n",
              "    <tr>\n",
              "      <th>2</th>\n",
              "      <td>0.03237</td>\n",
              "      <td>0.0</td>\n",
              "      <td>2.18</td>\n",
              "      <td>0</td>\n",
              "      <td>0.458</td>\n",
              "      <td>6.998</td>\n",
              "      <td>45.8</td>\n",
              "      <td>6.0622</td>\n",
              "      <td>3</td>\n",
              "      <td>222</td>\n",
              "      <td>18.7</td>\n",
              "      <td>394.63</td>\n",
              "      <td>2.94</td>\n",
              "      <td>33.4</td>\n",
              "    </tr>\n",
              "    <tr>\n",
              "      <th>3</th>\n",
              "      <td>0.06905</td>\n",
              "      <td>0.0</td>\n",
              "      <td>2.18</td>\n",
              "      <td>0</td>\n",
              "      <td>0.458</td>\n",
              "      <td>7.147</td>\n",
              "      <td>54.2</td>\n",
              "      <td>6.0622</td>\n",
              "      <td>3</td>\n",
              "      <td>222</td>\n",
              "      <td>18.7</td>\n",
              "      <td>396.90</td>\n",
              "      <td>5.33</td>\n",
              "      <td>36.2</td>\n",
              "    </tr>\n",
              "    <tr>\n",
              "      <th>4</th>\n",
              "      <td>0.02985</td>\n",
              "      <td>0.0</td>\n",
              "      <td>2.18</td>\n",
              "      <td>0</td>\n",
              "      <td>0.458</td>\n",
              "      <td>6.430</td>\n",
              "      <td>58.7</td>\n",
              "      <td>6.0622</td>\n",
              "      <td>3</td>\n",
              "      <td>222</td>\n",
              "      <td>18.7</td>\n",
              "      <td>394.12</td>\n",
              "      <td>5.21</td>\n",
              "      <td>28.7</td>\n",
              "    </tr>\n",
              "  </tbody>\n",
              "</table>\n",
              "</div>"
            ],
            "text/plain": [
              "   0.00632   18  2.31  0  0.538  6.575  65.2    4.09  1  296  15.3   396.9  \\\n",
              "0  0.02731  0.0  7.07  0  0.469  6.421  78.9  4.9671  2  242  17.8  396.90   \n",
              "1  0.02729  0.0  7.07  0  0.469  7.185  61.1  4.9671  2  242  17.8  392.83   \n",
              "2  0.03237  0.0  2.18  0  0.458  6.998  45.8  6.0622  3  222  18.7  394.63   \n",
              "3  0.06905  0.0  2.18  0  0.458  7.147  54.2  6.0622  3  222  18.7  396.90   \n",
              "4  0.02985  0.0  2.18  0  0.458  6.430  58.7  6.0622  3  222  18.7  394.12   \n",
              "\n",
              "   4.98    24  \n",
              "0  9.14  21.6  \n",
              "1  4.03  34.7  \n",
              "2  2.94  33.4  \n",
              "3  5.33  36.2  \n",
              "4  5.21  28.7  "
            ]
          },
          "execution_count": 40,
          "metadata": {},
          "output_type": "execute_result"
        }
      ],
      "source": [
        "df.head(5)"
      ]
    },
    {
      "cell_type": "code",
      "execution_count": 3,
      "metadata": {
        "id": "5JP3LpYiV4Y4"
      },
      "outputs": [],
      "source": [
        "X = df.values[:,:-1]\n",
        "y = df.values[:, -1]"
      ]
    },
    {
      "cell_type": "code",
      "execution_count": 4,
      "metadata": {
        "id": "9uAAhmcpIs0a"
      },
      "outputs": [],
      "source": [
        "class LinearRegression:\n",
        "    def __init__(self, X, y, max_iteration, epsilon, lambda_, learning_rate, gd=True, regularization=True) -> None:\n",
        "        self.X = X\n",
        "        self.y = y\n",
        "        self.max_iteration = max_iteration\n",
        "        self.epsilon = epsilon\n",
        "        self.lambda_ = lambda_\n",
        "        self.learning_rate = learning_rate\n",
        "        self.gd = gd\n",
        "        self.regularization = regularization\n",
        "\n",
        "    def split_data(self):\n",
        "      X_train, X_test, y_train, y_test = train_test_split(self.X,\n",
        "                                                          self.y,\n",
        "                                                          test_size=0.3,\n",
        "                                                          shuffle= True)\n",
        "      return X_train, X_test, y_train, y_test\n",
        "\n",
        "    def add_X0(self, X):\n",
        "      return np.column_stack([np.ones([X.shape[0], 1]), X])\n",
        "\n",
        "    def normalize_train(self,X):\n",
        "      mean = np.mean(X, axis = 0)\n",
        "      std = np.std(X, axis = 0)\n",
        "      X = (X - mean) / std\n",
        "      X = self.add_X0(X)\n",
        "      return X, mean, std\n",
        "\n",
        "    def normalize_test(self, X, mean, std):\n",
        "      X = (X - mean) / std\n",
        "      X = self.add_X0(X)\n",
        "      return X\n",
        "\n",
        "    def rank(self, X):\n",
        "      u, s, v = np.linalg.svd(X)\n",
        "      return len([x for x in s if x > 0.0005])\n",
        "\n",
        "    def check_fullRank(self,X):\n",
        "      rank = self.rank(X)\n",
        "      if rank == min(X.shape):\n",
        "        self.full_rank = True\n",
        "        print(\"it is full rank\")\n",
        "      else:\n",
        "        self.full_rank = False\n",
        "        print(\"it is not full rank\")\n",
        "\n",
        "    def check_lowRank(self, X):\n",
        "      if X.shape[0] < X.shape[1]:\n",
        "        self.low_rank = True\n",
        "        print(\"it is low rank\")\n",
        "      else:\n",
        "        self.low_rank = False\n",
        "        print(\"it is not low rank\")\n",
        "\n",
        "    def closed_form_solution(self, X, y):\n",
        "    #Adding the penalty term as L2 Norm\n",
        "      if self.regularization == True:\n",
        "        self.theta = np.linalg.inv(X.T.dot(X) + self.lambda_ * np.identity(X.shape[1])).dot(X.T).dot(y)\n",
        "      else:\n",
        "        self.theta = np.linalg.inv(X.T.dot(X)).dot(X.T).dot\n",
        "\n",
        "      return self.theta\n",
        "\n",
        "    def predict(self, X):\n",
        "      return X.dot(self.theta)\n",
        "\n",
        "    def sse(self, X, y):\n",
        "      y_hat = self.predict(X)\n",
        "      return ((y_hat - y) ** 2).sum()\n",
        "\n",
        "    def cost_function(self, X, y):\n",
        "      loss = self.sse(X, y)\n",
        "      return loss / 2\n",
        "    \n",
        "    def cost_derivative(self, X, y):\n",
        "      if self.regularization == True:\n",
        "        y_hat = self.predict(X)\n",
        "        return (X.T.dot(y_hat - y) + self.lambda_ * self.theta)\n",
        "      else:\n",
        "        y_hat = self.predict(X)\n",
        "        return X.T.dot(y_hat - y)\n",
        "\n",
        "    def gradient_descent(self, X, y):\n",
        "      errors = []\n",
        "      prev_error = float(\"inf\")\n",
        "\n",
        "      for t in tqdm(range(self.max_iteration), colour = 'blue'):\n",
        "        self.theta -= self.learning_rate * self.cost_derivative(X, y)\n",
        "        error = self.cost_function(X, y)\n",
        "        errors.append(error)\n",
        "\n",
        "        if abs(error - prev_error) < self.epsilon:\n",
        "          print(\"Model stopped learning\")\n",
        "          break\n",
        "\n",
        "      self.plot_rmse(errors)\n",
        "\n",
        "    def fit(self):\n",
        "      X_train, X_test, y_train, y_test = self.split_data()\n",
        "      X_train, mean, std = self. normalize_train(X_train)\n",
        "      X_test = self.normalize_test(X_test, mean, std)\n",
        "      self.check_fullRank(X_train)\n",
        "      self.check_lowRank(X_train)\n",
        "\n",
        "      if self.full_rank and not self.low_rank and X_train.shape[1] < 1000 and not self.gd:\n",
        "          self.closed_form_solution(X_train, y_train)\n",
        "      else:\n",
        "        self.theta = np.ones(X_train.shape[1])\n",
        "        self.gradient_descent (X_train, y_train)\n",
        "\n",
        "      print(self.theta)\n",
        "\n",
        "\n",
        "    def plot_rmse(self, error_sequence):\n",
        "        \"\"\"\n",
        "        @X: error_sequence, vector of rmse\n",
        "        @does: Plots the error function\n",
        "        @return: plot\n",
        "        \"\"\"\n",
        "        # Data for plotting\n",
        "        s = np.array(error_sequence)\n",
        "        t = np.arange(s.size)\n",
        "\n",
        "        fig, ax = plt.subplots()\n",
        "        ax.plot(t, s)\n",
        "\n",
        "        ax.set(xlabel='iterations', ylabel=list(range(len(error_sequence))))\n",
        "        ax.grid()\n",
        "\n",
        "        plt.legend(bbox_to_anchor=(1.05,1), loc=2, shadow=True)\n",
        "        plt.show()\n"
      ]
    },
    {
      "cell_type": "code",
      "execution_count": 47,
      "metadata": {
        "colab": {
          "base_uri": "https://localhost:8080/",
          "height": 591
        },
        "id": "0LwmNqBIVvLl",
        "outputId": "9112bdb2-9510-4f22-adf1-709bba3d011f"
      },
      "outputs": [
        {
          "name": "stdout",
          "output_type": "stream",
          "text": [
            "it is full rank\n",
            "it is not low rank\n"
          ]
        },
        {
          "name": "stderr",
          "output_type": "stream",
          "text": [
            "100%|\u001b[34m██████████\u001b[0m| 50/50 [00:00<00:00, 15375.01it/s]\n",
            "No artists with labels found to put in legend.  Note that artists whose label start with an underscore are ignored when legend() is called with no argument.\n"
          ]
        },
        {
          "data": {
            "image/png": "[encoded data removed]",
            "text/plain": [
              "<Figure size 640x480 with 1 Axes>"
            ]
          },
          "metadata": {},
          "output_type": "display_data"
        },
        {
          "name": "stdout",
          "output_type": "stream",
          "text": [
            "[ 22.61494008  39.94796922 -41.9710455   58.36582927   0.76426056\n",
            "  57.02080626 -27.08831593  52.7607994  -57.76985058  55.41013686\n",
            "  55.27058623  30.77311359 -30.39325127  47.71532613]\n"
          ]
        }
      ],
      "source": [
        "# lr = LinearRegression(X, y, max_iteration=50000, epsilon=0.0003, learning_rate=0.000001,gd = False)\n",
        "lr = LinearRegression(X, y, max_iteration=50, epsilon=0.003, learning_rate=0.001, lambda_ = 0.01,\n",
        "                      gd = False, regularization=True)\n",
        "lr.fit()"
      ]
    },
    {
      "cell_type": "code",
      "execution_count": 5,
      "metadata": {},
      "outputs": [
        {
          "name": "stdout",
          "output_type": "stream",
          "text": [
            "it is full rank\n",
            "it is not low rank\n",
            "[22.64213478 -0.58101037  1.14961724  0.55589364  0.70090861 -2.19680024\n",
            "  2.56642529  0.55351445 -2.87574624  2.70491886 -1.72156444 -2.46678321\n",
            "  1.02652341 -4.41979512]\n"
          ]
        }
      ],
      "source": [
        "# lr = LinearRegression(X, y, max_iteration=50000, epsilon=0.0003, learning_rate=0.000001,gd = False)\n",
        "lr = LinearRegression(X, y, max_iteration=50, epsilon=0.003, learning_rate=0.001, lambda_ = 0.01,\n",
        "                      gd = False, regularization=True)\n",
        "lr.fit()"
      ]
    },
    {
      "cell_type": "code",
      "execution_count": null,
      "metadata": {},
      "outputs": [],
      "source": []
    }
  ],
  "metadata": {
    "colab": {
      "provenance": []
    },
    "kernelspec": {
      "display_name": "Python 3 (ipykernel)",
      "language": "python",
      "name": "python3"
    },
    "language_info": {
      "codemirror_mode": {
        "name": "ipython",
        "version": 3
      },
      "file_extension": ".py",
      "mimetype": "text/x-python",
      "name": "python",
      "nbconvert_exporter": "python",
      "pygments_lexer": "ipython3",
      "version": "3.9.6"
    }
  },
  "nbformat": 4,
  "nbformat_minor": 0
}
