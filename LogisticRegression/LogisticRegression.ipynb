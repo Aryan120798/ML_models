{
 "cells": [
  {
   "cell_type": "code",
   "execution_count": 18,
   "metadata": {},
   "outputs": [],
   "source": [
    "import math\n",
    "import numpy as np\n",
    "import pandas as pd\n",
    "import matplotlib.pyplot as plt\n",
    "from sklearn.datasets import make_classification\n",
    "import seaborn as sns\n",
    "from tqdm import tqdm\n",
    "from dataclasses import dataclass\n",
    "from mpl_toolkits.mplot3d import Axes3D \n",
    "sns.set(style = \"white\")\n",
    "import warnings\n",
    "warnings.filterwarnings('ignore')"
   ]
  },
  {
   "cell_type": "markdown",
   "metadata": {},
   "source": [
    "- No closed form solution\n",
    "- GD (cost function, cost derivative)\n",
    "- Sigmoid\n",
    "- predict\n",
    "- add column 0\n",
    "- the data we are going to use already has train and test split, so we need a dataReader\n",
    "\n",
    "Inputs:\n",
    "- learning rate\n",
    "- tolerance\n",
    "- max_iterations"
   ]
  },
  {
   "cell_type": "code",
   "execution_count": 19,
   "metadata": {},
   "outputs": [],
   "source": [
    "@dataclass\n",
    "class LogisticRegression:\n",
    "    learning_rate: float\n",
    "    tolerance: float\n",
    "    max_iterations: int = 50000\n",
    "\n",
    "    def data_reader(self):\n",
    "        train_df = pd.read_excel('Lab3_data.xls', sheet_name = '2004--2005 Data')\n",
    "        test_df = pd.read_excel('Lab3_data.xls', sheet_name = '2004--2007 Data')\n",
    "        train_df = np.array(train_df, dtype = np.float64)\n",
    "        test_df = np.array(test_df, dtype = np.float64)\n",
    "\n",
    "        X_train, y_train = train_df[:, 1:], train_df[:, 0]\n",
    "        X_test, y_test = test_df[:, 1:], test_df[:, 0]\n",
    "        return X_train, X_test, y_train, y_test\n",
    "        \n",
    "    def add_x0(self, X):\n",
    "        return np.column_stack([np.ones([X.shape[0], 1]), X])\n",
    "\n",
    "    def sigmoid(self,z):\n",
    "        return 1/(1 + np.exp(-z))\n",
    "\n",
    "    def cost_function(self, X, y):\n",
    "        sig = self.sigmoid(X.dot(self.w))\n",
    "        cost = y * np.log(sig) + (1 - y) * np.log(1 - sig)\n",
    "        cost = - cost.sum()\n",
    "        return cost\n",
    "\n",
    "    def gradient(self, X, y):\n",
    "        sig = self.sigmoid(X.dot(self.w))\n",
    "        grad = (sig - y).dot(X)\n",
    "        return grad\n",
    "\n",
    "    def gradient_descent(self, X, y):\n",
    "        errors = []\n",
    "        last_error = float('inf') #inf = infinte\n",
    "        for i in tqdm(range(self.max_iterations)):\n",
    "            self.w = self.w - self.learning_rate * self.gradient(X, y)\n",
    "            curr_error = self.cost_function(X, y)\n",
    "            diff = last_error - curr_error\n",
    "            last_error = curr_error\n",
    "            errors.append(last_error)\n",
    "\n",
    "            if diff < self.tolerance:\n",
    "                print(\"Model has stoppend learning\")\n",
    "                break\n",
    "        self.plot_cost(errors)\n",
    "\n",
    "    def plot_cost(self,cost_sequence):\n",
    "        \n",
    "        s = np.array(cost_sequence)\n",
    "        t = np.arange(s.size)\n",
    "        \n",
    "        fig, ax = plt.subplots()\n",
    "        ax.plot(t,s)\n",
    "        \n",
    "        ax.set(xlabel = 'iterations', ylabel = 'cost' , title = 'cost trend')\n",
    "        ax.grid()\n",
    "        plt.legend(bbox_to_anchor=(1.05,1), loc=2,shadow=True)\n",
    "        plt.show()\n",
    "\n",
    "    def predict(self, X):\n",
    "        sig = self.sigmoid(X.dot(self.w))\n",
    "        return np.around(sig)\n",
    "\n",
    "    def evaluate(self, y, y_hat):\n",
    "        y = (y == 1) # converts y to boolean by doing element wise comparison and assigns true for all y == 1\n",
    "        y_hat = (y_hat == 1)\n",
    "                \n",
    "        accuracy = (y == y_hat).sum() / len(y) # no.of times model predicted1 amd zero correctly by total points\n",
    "        precision = (y & y_hat).sum() / y_hat.sum()\n",
    "        recall = (y & y_hat).sum() / y.sum()\n",
    "\n",
    "        return accuracy, precision, recall\n",
    "\n",
    "    def fit(self):\n",
    "        self.X_train, self.X_test, self.y_train, self.y_test = self.data_reader()\n",
    "        self.w = np.ones(self.X_train.shape[1], dtype=np.float64)\n",
    "        self.gradient_descent(self.X_train, self.y_train)\n",
    "        print(self.w)\n",
    "        y_hat_train = self.predict(self.X_train)\n",
    "\n",
    "        accuracy, precision, recall = self.evaluate(self.y_train, y_hat_train)\n",
    "        print(\"Accuracy is:\", accuracy)\n",
    "        print(\"Precision is:\", precision)\n",
    "        print(\"Recall is:\", recall)\n",
    "    \n",
    "    def plot(self):\n",
    "        plt.figure(figsize=(12,8))\n",
    "        ax = plt.axes(projection='3d')\n",
    "\n",
    "        # Data for three-dimensional scattered points\n",
    "        ax.scatter3D(self.X_train[:, 0], self.X_train[:, 1], \n",
    "                     self.sigmoid(self.X_train.dot(self.w)), \n",
    "                     c = self.y_train[:], cmap='viridis', s=100);\n",
    "\n",
    "        ax.set_xlim3d(55, 80)\n",
    "        ax.set_ylim3d(80, 240)\n",
    "        plt.xlabel('$x_1$ feature', fontsize=15)\n",
    "        plt.ylabel('$x_2$ feature', fontsize=15, )\n",
    "        ax.set_zlabel('$P(Y = 1|x_1, x_2)$', fontsize=15, rotation = 0)\n",
    "\n",
    "    \n",
    "    \n",
    "    def scatterPlt(self):\n",
    "        # evenly sampled points\n",
    "        x_min, x_max = 55, 80\n",
    "        y_min, y_max = 80, 240\n",
    "\n",
    "        xx, yy = np.meshgrid(np.linspace(x_min, x_max, 250),\n",
    "                             np.linspace(y_min, y_max, 250))\n",
    "        grid = np.c_[xx.ravel(), yy.ravel()]\n",
    "        probs = grid.dot(self.w).reshape(xx.shape)\n",
    "\n",
    "        f, ax = plt.subplots(figsize=(14,12))\n",
    "\n",
    "\n",
    "        ax.contour(xx, yy, probs, levels=[0.5], cmap=\"Greys\", vmin=0, vmax=.6)\n",
    "\n",
    "\n",
    "        ax.scatter(self.X_train[:, 0], self.X_train[:, 1], \n",
    "                   c=self.y_train[:], s=50,\n",
    "                   cmap=\"RdBu\", vmin=-.2, vmax=1.2,\n",
    "                   edgecolor=\"white\", linewidth=1)\n",
    "\n",
    "        plt.xlabel('x1 feature')\n",
    "        plt.ylabel('x2 feature')\n",
    "        \n",
    "\n",
    "    def plot3D(self):\n",
    "        # evenly sampled points\n",
    "        x_min, x_max = 55, 80\n",
    "        y_min, y_max = 80, 240\n",
    "        \n",
    "        xx, yy = np.meshgrid(np.linspace(x_min, x_max, 250),\n",
    "                             np.linspace(y_min, y_max, 250))\n",
    "        \n",
    "        grid = np.c_[xx.ravel(), yy.ravel()]\n",
    "        probs = grid.dot(self.w).reshape(xx.shape)\n",
    "        fig = plt.figure(figsize=(14,12))\n",
    "        ax = plt.axes(projection='3d')\n",
    "        ax.contour3D(xx, yy, probs, 50, cmap='binary')\n",
    "\n",
    "        ax.scatter3D(self.X_train[:, 0], self.X_train[:, 1], \n",
    "                   c=self.y_train[:], s=50,\n",
    "                   cmap=\"RdBu\", vmin=-.2, vmax=1.2,\n",
    "                   edgecolor=\"white\", linewidth=1)\n",
    "\n",
    "        ax.set_xlabel('x1')\n",
    "        ax.set_ylabel('x2')\n",
    "        ax.set_zlabel('probs')\n",
    "        ax.set_title('3D contour')\n",
    "        plt.show()\n",
    "        \n",
    "        \n",
    "        \n",
    "        "
   ]
  },
  {
   "cell_type": "code",
   "execution_count": 20,
   "metadata": {},
   "outputs": [],
   "source": [
    "lr = LogisticRegression(tolerance = 0.00001, learning_rate = 0.00001)"
   ]
  },
  {
   "cell_type": "code",
   "execution_count": 21,
   "metadata": {},
   "outputs": [
    {
     "name": "stderr",
     "output_type": "stream",
     "text": [
      "  0%|          | 0/50000 [00:00<?, ?it/s]"
     ]
    },
    {
     "name": "stderr",
     "output_type": "stream",
     "text": [
      " 18%|█▊        | 9204/50000 [00:00<00:00, 78680.87it/s]\n",
      "No artists with labels found to put in legend.  Note that artists whose label start with an underscore are ignored when legend() is called with no argument.\n"
     ]
    },
    {
     "name": "stdout",
     "output_type": "stream",
     "text": [
      "Model has stoppend learning\n"
     ]
    },
    {
     "data": {
      "image/png": "[encoded data removed]",
      "text/plain": [
       "<Figure size 640x480 with 1 Axes>"
      ]
     },
     "metadata": {},
     "output_type": "display_data"
    },
    {
     "name": "stdout",
     "output_type": "stream",
     "text": [
      "[-0.53066945  0.25693757]\n",
      "Accuracy is: 0.9565217391304348\n",
      "Precision is: 0.9722222222222222\n",
      "Recall is: 0.9722222222222222\n"
     ]
    }
   ],
   "source": [
    "lr.fit()"
   ]
  },
  {
   "cell_type": "code",
   "execution_count": null,
   "metadata": {},
   "outputs": [],
   "source": []
  }
 ],
 "metadata": {
  "kernelspec": {
   "display_name": "prophet39",
   "language": "python",
   "name": "prophet39"
  },
  "language_info": {
   "codemirror_mode": {
    "name": "ipython",
    "version": 3
   },
   "file_extension": ".py",
   "mimetype": "text/x-python",
   "name": "python",
   "nbconvert_exporter": "python",
   "pygments_lexer": "ipython3",
   "version": "3.11.5"
  }
 },
 "nbformat": 4,
 "nbformat_minor": 2
}
