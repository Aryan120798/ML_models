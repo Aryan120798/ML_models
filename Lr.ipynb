{
 "cells": [
  {
   "cell_type": "code",
   "execution_count": 16,
   "metadata": {},
   "outputs": [],
   "source": [
    "import warnings\n",
    "import pandas as pd\n",
    "import numpy as np\n",
    "\n",
    "# import math\n",
    "# import matplotlib.pyplot as plt\n",
    "# from tqdm import tqdm\n",
    "from sklearn.model_selection import train_test_split\n",
    "\n",
    "warnings.filterwarnings('ignore')\n"
   ]
  },
  {
   "cell_type": "code",
   "execution_count": 31,
   "metadata": {},
   "outputs": [
    {
     "name": "stdout",
     "output_type": "stream",
     "text": [
      "(505, 14)\n"
     ]
    }
   ],
   "source": [
    "df = pd.read_csv(\"Housing.csv\")\n",
    "\n",
    "X = df.values[:,:-1]\n",
    "y = df.values[:, -1]\n",
    "\n",
    "print(df.shape)"
   ]
  },
  {
   "cell_type": "code",
   "execution_count": 20,
   "metadata": {},
   "outputs": [],
   "source": [
    "# class LinearRegression:\n",
    "    \n",
    "#     def __init__(self, X,y,learning_rate,epsilon, max_iteration, gd = True, regularization = None, lambda_ = 0.01) -> None:\n",
    "#         self.X = X\n",
    "#         self.y = y\n",
    "#         self.max_iteration = max_iteration\n",
    "#         self.epsilon = epsilon\n",
    "#         self.learning_rate = learning_rate\n",
    "#         self.gd = gd\n",
    "#         self.regularization = regularization\n",
    "#         self.lambda_ = lambda_"
   ]
  },
  {
   "cell_type": "code",
   "execution_count": 35,
   "metadata": {},
   "outputs": [],
   "source": [
    "def split_data(self):\n",
    "        X_train,X_test,y_train,y_test = train_test_split(self.X,self.y,test_size=0.3,shuffle = True)\n",
    "        return X_train, X_test,y_train,y_test\n",
    "\n",
    "# def split_data(self):\n",
    "#         X_train,X_test,y_train,y_test = train_test_split(X,y,test_size=0.3,shuffle = True)\n",
    "#         return X_train, X_test,y_train,y_test\n",
    "\n",
    "# split_data(df)"
   ]
  },
  {
   "cell_type": "code",
   "execution_count": 42,
   "metadata": {},
   "outputs": [
    {
     "data": {
      "text/plain": [
       "array([[1.0000e+00, 2.7310e-02, 0.0000e+00, ..., 1.7800e+01, 3.9690e+02,\n",
       "        9.1400e+00],\n",
       "       [1.0000e+00, 2.7290e-02, 0.0000e+00, ..., 1.7800e+01, 3.9283e+02,\n",
       "        4.0300e+00],\n",
       "       [1.0000e+00, 3.2370e-02, 0.0000e+00, ..., 1.8700e+01, 3.9463e+02,\n",
       "        2.9400e+00],\n",
       "       ...,\n",
       "       [1.0000e+00, 6.0760e-02, 0.0000e+00, ..., 2.1000e+01, 3.9690e+02,\n",
       "        5.6400e+00],\n",
       "       [1.0000e+00, 1.0959e-01, 0.0000e+00, ..., 2.1000e+01, 3.9345e+02,\n",
       "        6.4800e+00],\n",
       "       [1.0000e+00, 4.7410e-02, 0.0000e+00, ..., 2.1000e+01, 3.9690e+02,\n",
       "        7.8800e+00]])"
      ]
     },
     "execution_count": 42,
     "metadata": {},
     "output_type": "execute_result"
    }
   ],
   "source": [
    "# basis expansion:\n",
    "def add_x0(X):\n",
    "    return np.column_stack([np.ones([X.shape[0],1]),X])\n",
    "\n",
    "add_x0(X)"
   ]
  },
  {
   "cell_type": "code",
   "execution_count": null,
   "metadata": {},
   "outputs": [],
   "source": []
  },
  {
   "cell_type": "code",
   "execution_count": null,
   "metadata": {},
   "outputs": [],
   "source": []
  }
 ],
 "metadata": {
  "kernelspec": {
   "display_name": "Python 3",
   "language": "python",
   "name": "python3"
  },
  "language_info": {
   "codemirror_mode": {
    "name": "ipython",
    "version": 3
   },
   "file_extension": ".py",
   "mimetype": "text/x-python",
   "name": "python",
   "nbconvert_exporter": "python",
   "pygments_lexer": "ipython3",
   "version": "3.9.6"
  }
 },
 "nbformat": 4,
 "nbformat_minor": 2
}
