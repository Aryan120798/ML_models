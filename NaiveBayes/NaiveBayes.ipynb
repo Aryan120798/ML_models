{
 "cells": [
  {
   "cell_type": "code",
   "execution_count": 1,
   "metadata": {},
   "outputs": [],
   "source": [
    "import numpy as np\n",
    "import pandas as pd\n",
    "import random\n",
    "from sklearn.model_selection import train_test_split"
   ]
  },
  {
   "cell_type": "markdown",
   "metadata": {},
   "source": [
    "- it is a generative classification\n",
    "- P( y = k | x = x') = P(y) * P( x = x' | y = k) #posterior = prior * likelihood"
   ]
  },
  {
   "cell_type": "code",
   "execution_count": 2,
   "metadata": {},
   "outputs": [
    {
     "data": {
      "text/html": [
       "<div>\n",
       "<style scoped>\n",
       "    .dataframe tbody tr th:only-of-type {\n",
       "        vertical-align: middle;\n",
       "    }\n",
       "\n",
       "    .dataframe tbody tr th {\n",
       "        vertical-align: top;\n",
       "    }\n",
       "\n",
       "    .dataframe thead th {\n",
       "        text-align: right;\n",
       "    }\n",
       "</style>\n",
       "<table border=\"1\" class=\"dataframe\">\n",
       "  <thead>\n",
       "    <tr style=\"text-align: right;\">\n",
       "      <th></th>\n",
       "      <th>x1</th>\n",
       "      <th>x2</th>\n",
       "      <th>y</th>\n",
       "    </tr>\n",
       "  </thead>\n",
       "  <tbody>\n",
       "    <tr>\n",
       "      <th>0</th>\n",
       "      <td>0</td>\n",
       "      <td>1</td>\n",
       "      <td>1</td>\n",
       "    </tr>\n",
       "    <tr>\n",
       "      <th>1</th>\n",
       "      <td>0</td>\n",
       "      <td>0</td>\n",
       "      <td>1</td>\n",
       "    </tr>\n",
       "    <tr>\n",
       "      <th>2</th>\n",
       "      <td>1</td>\n",
       "      <td>0</td>\n",
       "      <td>1</td>\n",
       "    </tr>\n",
       "    <tr>\n",
       "      <th>3</th>\n",
       "      <td>1</td>\n",
       "      <td>0</td>\n",
       "      <td>1</td>\n",
       "    </tr>\n",
       "    <tr>\n",
       "      <th>4</th>\n",
       "      <td>0</td>\n",
       "      <td>1</td>\n",
       "      <td>0</td>\n",
       "    </tr>\n",
       "    <tr>\n",
       "      <th>...</th>\n",
       "      <td>...</td>\n",
       "      <td>...</td>\n",
       "      <td>...</td>\n",
       "    </tr>\n",
       "    <tr>\n",
       "      <th>995</th>\n",
       "      <td>1</td>\n",
       "      <td>1</td>\n",
       "      <td>0</td>\n",
       "    </tr>\n",
       "    <tr>\n",
       "      <th>996</th>\n",
       "      <td>1</td>\n",
       "      <td>0</td>\n",
       "      <td>0</td>\n",
       "    </tr>\n",
       "    <tr>\n",
       "      <th>997</th>\n",
       "      <td>0</td>\n",
       "      <td>0</td>\n",
       "      <td>1</td>\n",
       "    </tr>\n",
       "    <tr>\n",
       "      <th>998</th>\n",
       "      <td>1</td>\n",
       "      <td>0</td>\n",
       "      <td>0</td>\n",
       "    </tr>\n",
       "    <tr>\n",
       "      <th>999</th>\n",
       "      <td>0</td>\n",
       "      <td>1</td>\n",
       "      <td>1</td>\n",
       "    </tr>\n",
       "  </tbody>\n",
       "</table>\n",
       "<p>1000 rows × 3 columns</p>\n",
       "</div>"
      ],
      "text/plain": [
       "     x1  x2  y\n",
       "0     0   1  1\n",
       "1     0   0  1\n",
       "2     1   0  1\n",
       "3     1   0  1\n",
       "4     0   1  0\n",
       "..   ..  .. ..\n",
       "995   1   1  0\n",
       "996   1   0  0\n",
       "997   0   0  1\n",
       "998   1   0  0\n",
       "999   0   1  1\n",
       "\n",
       "[1000 rows x 3 columns]"
      ]
     },
     "execution_count": 2,
     "metadata": {},
     "output_type": "execute_result"
    }
   ],
   "source": [
    "num_rows = 1000 \n",
    "\n",
    "# Create a DataFrame with specified number of rows\n",
    "table = pd.DataFrame(index=range(num_rows), columns=['x1', 'x2', 'y'])\n",
    "\n",
    "# Generate random integers using apply() and a lambda function\n",
    "table['x1'] = table.apply(lambda _: np.random.randint(0, 2), axis=1)\n",
    "table['x2'] = table.apply(lambda _: np.random.randint(0, 2), axis=1)\n",
    "table['y'] = table.apply(lambda _: np.random.randint(0, 2), axis=1)\n",
    "table"
   ]
  },
  {
   "cell_type": "code",
   "execution_count": 3,
   "metadata": {},
   "outputs": [],
   "source": [
    "# Defining target and features\n",
    "X = table.drop('y', axis=1)  # Replace 'TargetColumn' with the name of your target column\n",
    "y = table['y']"
   ]
  },
  {
   "cell_type": "code",
   "execution_count": 21,
   "metadata": {},
   "outputs": [
    {
     "data": {
      "text/plain": [
       "511"
      ]
     },
     "execution_count": 21,
     "metadata": {},
     "output_type": "execute_result"
    }
   ],
   "source": [
    "# X.iloc[:,:1]\n",
    "X.iloc[:,0].value_counts().get(1,0)"
   ]
  },
  {
   "cell_type": "code",
   "execution_count": 34,
   "metadata": {},
   "outputs": [],
   "source": [
    "class NaiveBayes:\n",
    "    def __init__(self, X, y, a):\n",
    "        self.X = X\n",
    "        self.y = y\n",
    "        self.a = a #laplace smoothing constant\n",
    "\n",
    "    def data_split(self):\n",
    "        self.X_train, self.X_test, self.y_train, self.y_test = train_test_split(self.X, self.y, test_size = 0.3, shuffle = True)\n",
    "        \n",
    "    def split_class(self):\n",
    "        self.X_0 = self.X_train[self.y_train == 0]\n",
    "        self.X_1 = self.X_train[self.y_train == 1]\n",
    "\n",
    "    def prior(self):\n",
    "        self.prior_0 = len(self.X_0) / len(self.X_train)\n",
    "        self.prior_1 = len(self.X_1) / len(self.X_train)\n",
    "    \n",
    "    def likelihood(self, X):\n",
    "        Theta_0_1 = (X.iloc[:,0].value_counts().get(1, 0) + self.a) / (len(X) + self.a * len(set(self.y_train)))\n",
    "        Theta_0_0 = (X.iloc[:,0].value_counts().get(0, 0) + self.a) / (len(X) + self.a * len(set(self.y_train)))\n",
    "        Theta_1_1 = (X.iloc[:,1].value_counts().get(1, 0) + self.a) / (len(X) + self.a * len(set(self.y_train)))\n",
    "        Theta_1_0 = (X.iloc[:,1].value_counts().get(0, 0) + self.a) / (len(X) + self.a * len(set(self.y_train)))\n",
    "\n",
    "        return Theta_0_1 * Theta_0_0 * Theta_1_1 * Theta_1_0\n",
    "    \n",
    "    def posterior(self, prior, X):\n",
    "        return prior * self.likelihood(X)\n",
    "\n",
    "\n",
    "    def predict(self):\n",
    "\n",
    "        self.error_count = 0\n",
    "\n",
    "        for sample, target in zip(self.X_test, self.y_test):\n",
    "            py0 = self.posterior(self.prior_0, self.X_0)\n",
    "            py1 = self.posterior(self.prior_1, self.X_1)\n",
    "\n",
    "            \n",
    "            print('P(y=0 | %s) = %3.f' % (sample, py0 * 100))\n",
    "            print('P(y=1 | %s) = %3.f' % (sample, py1 * 100))\n",
    "            \n",
    "            print(sample, target)\n",
    "\n",
    "            # if np.argmax([py0,py1]) != target:\n",
    "            #     self.error_count += 1\n",
    "        \n",
    "            print(\" Model predicted class {} and the truth was: {} \\n\".format(np.argmax([py0,py1]), target))\n",
    "\n",
    "        # print(self.error_count)\n",
    "        # print(len(self.X))\n",
    "\n",
    "    def fit(self):\n",
    "        self.data_split()\n",
    "        self.split_class()\n",
    "        self.prior()\n",
    "        self.predict()\n",
    "        \n",
    "        "
   ]
  },
  {
   "cell_type": "code",
   "execution_count": 35,
   "metadata": {},
   "outputs": [],
   "source": [
    "nb = NaiveBayes(X, y, 5)"
   ]
  },
  {
   "cell_type": "code",
   "execution_count": 36,
   "metadata": {},
   "outputs": [
    {
     "name": "stdout",
     "output_type": "stream",
     "text": [
      "P(y=0 | x1) =   0\n",
      "P(y=1 | x1) =   0\n",
      "x1 1\n",
      " Model predicted class 1 and the truth was: 1 \n",
      "\n",
      "P(y=0 | x2) =   0\n",
      "P(y=1 | x2) =   0\n",
      "x2 0\n",
      " Model predicted class 1 and the truth was: 0 \n",
      "\n"
     ]
    }
   ],
   "source": [
    "nb.fit()"
   ]
  },
  {
   "cell_type": "code",
   "execution_count": null,
   "metadata": {},
   "outputs": [],
   "source": []
  },
  {
   "cell_type": "code",
   "execution_count": null,
   "metadata": {},
   "outputs": [],
   "source": []
  }
 ],
 "metadata": {
  "kernelspec": {
   "display_name": "Python 3",
   "language": "python",
   "name": "python3"
  },
  "language_info": {
   "codemirror_mode": {
    "name": "ipython",
    "version": 3
   },
   "file_extension": ".py",
   "mimetype": "text/x-python",
   "name": "python",
   "nbconvert_exporter": "python",
   "pygments_lexer": "ipython3",
   "version": "3.9.6"
  }
 },
 "nbformat": 4,
 "nbformat_minor": 2
}
